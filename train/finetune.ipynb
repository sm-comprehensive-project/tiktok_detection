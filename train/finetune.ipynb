{
 "cells": [
  {
   "cell_type": "code",
   "execution_count": 1,
   "id": "ab2db84a",
   "metadata": {},
   "outputs": [
    {
     "name": "stdout",
     "output_type": "stream",
     "text": [
      "12.1\n",
      "True\n"
     ]
    }
   ],
   "source": [
    "import torch\n",
    "print(torch.version.cuda)\n",
    "print(torch.cuda.is_available())"
   ]
  },
  {
   "cell_type": "code",
   "execution_count": 10,
   "id": "d2ce8f0d",
   "metadata": {},
   "outputs": [
    {
     "name": "stdout",
     "output_type": "stream",
     "text": [
      "✅ 완료: EOS 토큰 포함 response 추가 → merged_data.jsonl\n"
     ]
    }
   ],
   "source": [
    "import json\n",
    "\n",
    "input_path = \"merged_normalized.jsonl\"\n",
    "output_path = \"merged_data.jsonl\"\n",
    "\n",
    "eos_token = \"</s>\"\n",
    "\n",
    "with open(input_path, \"r\", encoding=\"utf-8\") as infile, open(output_path, \"w\", encoding=\"utf-8\") as outfile:\n",
    "    for line in infile:\n",
    "        data = json.loads(line)\n",
    "        label = data.get(\"label\")\n",
    "\n",
    "        if label == 1:\n",
    "            data[\"response\"] = f\"네 {eos_token}\"\n",
    "        elif label == 0:\n",
    "            data[\"response\"] = f\"아니요 {eos_token}\"\n",
    "        else:\n",
    "            data[\"response\"] = f\"모름 {eos_token}\"\n",
    "\n",
    "        outfile.write(json.dumps(data, ensure_ascii=False) + \"\\n\")\n",
    "\n",
    "print(f\"✅ 완료: EOS 토큰 포함 response 추가 → {output_path}\")\n"
   ]
  },
  {
   "cell_type": "code",
   "execution_count": 11,
   "id": "9092c87d",
   "metadata": {},
   "outputs": [
    {
     "name": "stdout",
     "output_type": "stream",
     "text": [
      "✅ 변환 완료: converted_prompt_response.jsonl\n"
     ]
    }
   ],
   "source": [
    "import json\n",
    "\n",
    "input_path = \"merged_data.jsonl\"\n",
    "output_path = \"converted_prompt_response.jsonl\"\n",
    "\n",
    "with open(input_path, \"r\", encoding=\"utf-8\") as infile, open(output_path, \"w\", encoding=\"utf-8\") as outfile:\n",
    "    for line in infile:\n",
    "        data = json.loads(line)\n",
    "        \n",
    "        title = data.get(\"title\", \"\").strip()\n",
    "        chat = \" \".join(data.get(\"chat\", [])).strip()\n",
    "        transcript = data.get(\"whisper_transcript\", \"\").strip()\n",
    "        response = data.get(\"response\", \"\").strip()\n",
    "\n",
    "        # ✅ prompt 구성\n",
    "        prompt = f\"📌 제목: {title}\\n📌 채팅: {chat}\\n📌 자막: {transcript}\\n이 방송은 제품을 판매하는 라이브커머스인가요?\\n[답]:\"\n",
    "\n",
    "        # ✅ 새 구조로 저장\n",
    "        new_data = {\n",
    "            \"prompt\": prompt,\n",
    "            \"response\": response\n",
    "        }\n",
    "        outfile.write(json.dumps(new_data, ensure_ascii=False) + \"\\n\")\n",
    "\n",
    "print(f\"✅ 변환 완료: {output_path}\")\n"
   ]
  },
  {
   "cell_type": "code",
   "execution_count": 1,
   "id": "e579b95f",
   "metadata": {},
   "outputs": [
    {
     "name": "stderr",
     "output_type": "stream",
     "text": [
      "c:\\Users\\c0517\\anaconda3\\envs\\gaon-env\\lib\\site-packages\\tqdm\\auto.py:21: TqdmWarning: IProgress not found. Please update jupyter and ipywidgets. See https://ipywidgets.readthedocs.io/en/stable/user_install.html\n",
      "  from .autonotebook import tqdm as notebook_tqdm\n"
     ]
    }
   ],
   "source": [
    "import pandas as pd\n",
    "from sklearn.model_selection import train_test_split\n",
    "from sklearn.preprocessing import LabelEncoder\n",
    "from datasets import Dataset\n",
    "from transformers import AutoTokenizer, AutoModelForCausalLM, BitsAndBytesConfig, TrainingArguments, Trainer\n",
    "from peft import LoraConfig, get_peft_model, TaskType\n",
    "import torch\n",
    "from transformers import EarlyStoppingCallback\n",
    "import json"
   ]
  },
  {
   "cell_type": "code",
   "execution_count": 2,
   "id": "06312ffd",
   "metadata": {},
   "outputs": [],
   "source": [
    "\n",
    "# 1. JSONL 파일 불러오기\n",
    "# JSONL 한 줄 = {\"prompt\": ..., \"response\": \"네 </s>\" 또는 \"아니요 </s>\"}\n",
    "jsonl_path = \"converted_prompt_response.jsonl\"\n",
    "data_list = []\n",
    "\n",
    "with open(jsonl_path, \"r\", encoding=\"utf-8\") as f:\n",
    "    for line in f:\n",
    "        data = json.loads(line)\n",
    "        if \"prompt\" in data and \"response\" in data:\n",
    "            data_list.append(data)\n",
    "\n",
    "df = pd.DataFrame(data_list)\n",
    "\n",
    "# 2. 데이터 정제 (공백 제거 + prompt/response 유효성 체크)\n",
    "df[\"prompt\"] = df[\"prompt\"].astype(str).str.strip()\n",
    "df[\"response\"] = df[\"response\"].astype(str).str.strip()\n",
    "df = df[df[\"prompt\"].str.len() > 0]\n",
    "df = df[df[\"response\"].str.len() > 0]\n",
    "\n",
    "# 3. prompt + response 결합하여 전체 학습 문장 만들기\n",
    "df[\"text\"] = df[\"prompt\"] + \" \" + df[\"response\"]\n",
    "\n",
    "# 4. Train/Validation/Test 분할 (stratify는 없음 — 이진 균형 맞췄을 경우만 고려)\n",
    "train_val_df, test_df = train_test_split(df, test_size=0.1, random_state=42)\n",
    "train_df, val_df = train_test_split(train_val_df, test_size=0.1, random_state=42)\n",
    "\n",
    "# 5. HuggingFace Datasets 객체로 변환 (Trainer와 호환되도록)\n",
    "train_dataset = Dataset.from_pandas(train_df[[\"prompt\", \"response\"]])\n",
    "val_dataset   = Dataset.from_pandas(val_df[[\"prompt\", \"response\"]])  # 평가 속도 단축"
   ]
  },
  {
   "cell_type": "code",
   "execution_count": 3,
   "id": "2ff13be8",
   "metadata": {},
   "outputs": [
    {
     "name": "stdout",
     "output_type": "stream",
     "text": [
      "✅ tokenizer 준비 완료\n"
     ]
    },
    {
     "name": "stderr",
     "output_type": "stream",
     "text": [
      "Map: 100%|██████████| 6495/6495 [00:03<00:00, 1675.86 examples/s]\n",
      "Map: 100%|██████████| 722/722 [00:00<00:00, 1693.52 examples/s]"
     ]
    },
    {
     "name": "stdout",
     "output_type": "stream",
     "text": [
      "✅ 데이터 토크나이즈 완료\n"
     ]
    },
    {
     "name": "stderr",
     "output_type": "stream",
     "text": [
      "\n"
     ]
    }
   ],
   "source": [
    "from transformers import AutoTokenizer, AutoModelForCausalLM, BitsAndBytesConfig\n",
    "from peft import LoraConfig, get_peft_model, TaskType\n",
    "import torch\n",
    "\n",
    "# 6. Tokenizer 로드 및 special token 설정\n",
    "model_id = \"EleutherAI/polyglot-ko-3.8b\"\n",
    "tokenizer = AutoTokenizer.from_pretrained(model_id)\n",
    "tokenizer.add_special_tokens({\"eos_token\": \"</s>\"})  # 반드시 필요\n",
    "print(\"✅ tokenizer 준비 완료\")\n",
    "\n",
    "# 7. Tokenization 함수 정의 (prompt + response → input_ids / labels 생성)\n",
    "def tokenize_func(examples):\n",
    "    model_inputs = tokenizer(\n",
    "        [f\"{p} {r}\" for p, r in zip(examples[\"prompt\"], examples[\"response\"])],\n",
    "        truncation=True,\n",
    "        padding=\"max_length\",\n",
    "        max_length=512,\n",
    "    )\n",
    "\n",
    "    labels = []\n",
    "    for p, r in zip(examples[\"prompt\"], examples[\"response\"]):\n",
    "        prompt_ids = tokenizer(p, truncation=True, padding=False, max_length=512)[\"input_ids\"]\n",
    "        full_ids   = tokenizer(f\"{p} {r}\", truncation=True, padding=\"max_length\", max_length=512)[\"input_ids\"]\n",
    "\n",
    "        label = [-100] * len(prompt_ids) + full_ids[len(prompt_ids):]\n",
    "        label += [-100] * (512 - len(label))  # 패딩\n",
    "        labels.append(label)\n",
    "\n",
    "    model_inputs[\"labels\"] = labels\n",
    "    return model_inputs\n",
    "\n",
    "# 8. 전처리 적용\n",
    "train_dataset = train_dataset.map(tokenize_func, batched=True)\n",
    "val_dataset = val_dataset.map(tokenize_func, batched=True)\n",
    "print(\"✅ 데이터 토크나이즈 완료\")\n"
   ]
  },
  {
   "cell_type": "code",
   "execution_count": 4,
   "id": "bb4909b3",
   "metadata": {},
   "outputs": [
    {
     "name": "stderr",
     "output_type": "stream",
     "text": [
      "Loading checkpoint shards: 100%|██████████| 8/8 [00:03<00:00,  2.02it/s]\n"
     ]
    },
    {
     "name": "stdout",
     "output_type": "stream",
     "text": [
      "✅ 모델 + LoRA 설정 완료\n"
     ]
    }
   ],
   "source": [
    "model_id = \"EleutherAI/polyglot-ko-3.8b\"\n",
    "# 9. LoRA 설정 및 모델 로딩\n",
    "bnb_config = BitsAndBytesConfig(load_in_4bit=True, bnb_4bit_compute_dtype=torch.float16)\n",
    "base_model = AutoModelForCausalLM.from_pretrained(\n",
    "    model_id,\n",
    "    device_map=\"auto\",\n",
    "    quantization_config=BitsAndBytesConfig(\n",
    "        load_in_4bit=True,\n",
    "        bnb_4bit_compute_dtype=torch.float16\n",
    "    )\n",
    ")\n",
    "base_model.resize_token_embeddings(len(tokenizer))\n",
    "\n",
    "lora_config = LoraConfig(\n",
    "    r=8,\n",
    "    lora_alpha=32,\n",
    "    lora_dropout=0.05,\n",
    "    bias=\"none\",\n",
    "    task_type=TaskType.CAUSAL_LM,\n",
    "    target_modules=[\"query_key_value\"]  # 이게 맞는지 꼭 확인\n",
    ")\n",
    "\n",
    "\n",
    "model = get_peft_model(base_model, lora_config)\n",
    "print(\"✅ 모델 + LoRA 설정 완료\")\n"
   ]
  },
  {
   "cell_type": "code",
   "execution_count": 5,
   "id": "30d8e281",
   "metadata": {},
   "outputs": [],
   "source": [
    "training_args = TrainingArguments(\n",
    "    output_dir=\"./results_polyglot\",\n",
    "    per_device_train_batch_size=2,\n",
    "    per_device_eval_batch_size=2,\n",
    "    eval_strategy=\"epoch\",\n",
    "    save_strategy=\"epoch\",\n",
    "    logging_dir=\"./logs\",\n",
    "    logging_steps=10,\n",
    "    learning_rate=2e-4,\n",
    "    num_train_epochs=100,\n",
    "    gradient_accumulation_steps=8,\n",
    "    fp16=True,\n",
    "    report_to=\"none\",\n",
    "    prediction_loss_only=True,\n",
    "    eval_accumulation_steps=4,\n",
    "    load_best_model_at_end=True,\n",
    "    metric_for_best_model=\"eval_loss\",\n",
    "    greater_is_better=False\n",
    ")"
   ]
  },
  {
   "cell_type": "code",
   "execution_count": 7,
   "id": "7d431886",
   "metadata": {},
   "outputs": [
    {
     "name": "stderr",
     "output_type": "stream",
     "text": [
      "No label_names provided for model class `PeftModelForCausalLM`. Since `PeftModel` hides base models input arguments, if label_names is not given, label_names can't be set automatically within `Trainer`. Note that empty label_names list will be used instead.\n"
     ]
    }
   ],
   "source": [
    "import numpy as np\n",
    "\n",
    "def compute_metrics():\n",
    "    return {}\n",
    "from transformers import Trainer, EarlyStoppingCallback\n",
    "\n",
    "trainer = Trainer(\n",
    "    model=model,\n",
    "    args=training_args,\n",
    "    train_dataset=train_dataset,\n",
    "    eval_dataset=val_dataset,\n",
    "    compute_metrics=None,  # 메트릭 사용 안함\n",
    "    callbacks=[EarlyStoppingCallback(early_stopping_patience=3)]\n",
    ")"
   ]
  },
  {
   "cell_type": "code",
   "execution_count": 8,
   "id": "3ab522f4",
   "metadata": {},
   "outputs": [
    {
     "data": {
      "text/html": [
       "\n",
       "    <div>\n",
       "      \n",
       "      <progress value='2436' max='40600' style='width:300px; height:20px; vertical-align: middle;'></progress>\n",
       "      [ 2436/40600 2:55:58 < 45:59:07, 0.23 it/s, Epoch 6/100]\n",
       "    </div>\n",
       "    <table border=\"1\" class=\"dataframe\">\n",
       "  <thead>\n",
       " <tr style=\"text-align: left;\">\n",
       "      <th>Epoch</th>\n",
       "      <th>Training Loss</th>\n",
       "      <th>Validation Loss</th>\n",
       "    </tr>\n",
       "  </thead>\n",
       "  <tbody>\n",
       "    <tr>\n",
       "      <td>1</td>\n",
       "      <td>0.000900</td>\n",
       "      <td>0.000876</td>\n",
       "    </tr>\n",
       "    <tr>\n",
       "      <td>2</td>\n",
       "      <td>0.000800</td>\n",
       "      <td>0.000783</td>\n",
       "    </tr>\n",
       "    <tr>\n",
       "      <td>3</td>\n",
       "      <td>0.000900</td>\n",
       "      <td>0.000695</td>\n",
       "    </tr>\n",
       "    <tr>\n",
       "      <td>4</td>\n",
       "      <td>0.000400</td>\n",
       "      <td>0.001226</td>\n",
       "    </tr>\n",
       "    <tr>\n",
       "      <td>5</td>\n",
       "      <td>0.000300</td>\n",
       "      <td>0.000868</td>\n",
       "    </tr>\n",
       "    <tr>\n",
       "      <td>6</td>\n",
       "      <td>0.000200</td>\n",
       "      <td>0.001174</td>\n",
       "    </tr>\n",
       "  </tbody>\n",
       "</table><p>"
      ],
      "text/plain": [
       "<IPython.core.display.HTML object>"
      ]
     },
     "metadata": {},
     "output_type": "display_data"
    },
    {
     "data": {
      "text/plain": [
       "TrainOutput(global_step=2436, training_loss=0.03775971628571073, metrics={'train_runtime': 10562.7986, 'train_samples_per_second': 61.489, 'train_steps_per_second': 3.844, 'total_flos': 4.454004803449651e+17, 'train_loss': 0.03775971628571073, 'epoch': 6.0})"
      ]
     },
     "execution_count": 8,
     "metadata": {},
     "output_type": "execute_result"
    }
   ],
   "source": [
    "trainer.train()"
   ]
  },
  {
   "cell_type": "code",
   "execution_count": null,
   "id": "77bde41b",
   "metadata": {},
   "outputs": [
    {
     "data": {
      "text/plain": [
       "('./final_model_polyglot\\\\tokenizer_config.json',\n",
       " './final_model_polyglot\\\\special_tokens_map.json',\n",
       " './final_model_polyglot\\\\tokenizer.json')"
      ]
     },
     "execution_count": 2,
     "metadata": {},
     "output_type": "execute_result"
    }
   ],
   "source": [
    "# 14. 모델 저장 (LoRA 어댑터 포함)\n",
    "trainer.model.save_pretrained(\"./final_model_polyglot\")\n",
    "tokenizer.save_pretrained(\"./final_model_polyglot\")"
   ]
  },
  {
   "cell_type": "code",
   "execution_count": 2,
   "id": "3ab3676a",
   "metadata": {},
   "outputs": [
    {
     "name": "stdout",
     "output_type": "stream",
     "text": [
      "🟢 '네' 개수     : 3037\n",
      "🔴 '아니요' 개수 : 4982\n",
      "📊 전체 개수     : 8019\n"
     ]
    }
   ],
   "source": [
    "import json\n",
    "from collections import Counter\n",
    "\n",
    "jsonl_path = \"converted_prompt_response.jsonl\"\n",
    "\n",
    "counter = Counter()\n",
    "\n",
    "with open(jsonl_path, \"r\", encoding=\"utf-8\") as f:\n",
    "    for line in f:\n",
    "        data = json.loads(line)\n",
    "        response = data.get(\"response\", \"\").strip()\n",
    "        if response == \"네 </s>\":\n",
    "            counter[\"yes\"] += 1\n",
    "        elif response == \"아니요 </s>\":\n",
    "            counter[\"no\"] += 1\n",
    "\n",
    "print(f\"🟢 '네' 개수     : {counter['yes']}\")\n",
    "print(f\"🔴 '아니요' 개수 : {counter['no']}\")\n",
    "print(f\"📊 전체 개수     : {sum(counter.values())}\")\n"
   ]
  },
  {
   "cell_type": "code",
   "execution_count": 12,
   "id": "f46d07c9",
   "metadata": {},
   "outputs": [],
   "source": [
    "del model\n",
    "import gc\n",
    "gc.collect()\n",
    "torch.cuda.empty_cache()\n"
   ]
  }
 ],
 "metadata": {
  "kernelspec": {
   "display_name": "gaon-env",
   "language": "python",
   "name": "python3"
  },
  "language_info": {
   "codemirror_mode": {
    "name": "ipython",
    "version": 3
   },
   "file_extension": ".py",
   "mimetype": "text/x-python",
   "name": "python",
   "nbconvert_exporter": "python",
   "pygments_lexer": "ipython3",
   "version": "3.10.16"
  }
 },
 "nbformat": 4,
 "nbformat_minor": 5
}
